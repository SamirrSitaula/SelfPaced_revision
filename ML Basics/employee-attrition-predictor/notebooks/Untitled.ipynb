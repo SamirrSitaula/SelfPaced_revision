{
 "cells": [
  {
   "cell_type": "code",
   "execution_count": 7,
   "id": "a896427d-ead7-4675-a2a7-db0565b0a943",
   "metadata": {},
   "outputs": [],
   "source": [
    "# src/data_creation.py\n",
    "import pandas as pd\n",
    "import numpy as np\n",
    "import random\n",
    "import os\n",
    "\n",
    "np.random.seed(42)\n",
    "\n",
    "def generate_synthetic_hr_data(n=1000):\n",
    "    data = pd.DataFrame({\n",
    "        \"Age\": np.random.randint(20, 60, size=n),\n",
    "        \"Department\": np.random.choice([\"Sales\", \"HR\", \"R&D\"], size=n),\n",
    "        \"MonthlyIncome\": np.random.randint(2000, 20000, size=n),\n",
    "        \"DistanceFromHome\": np.random.randint(1, 30, size=n),\n",
    "        \"JobRole\": np.random.choice([\"Manager\", \"Executive\", \"Engineer\", \"Clerk\"], size=n),\n",
    "        \"Education\": np.random.randint(1, 5, size=n),\n",
    "        \"JobSatisfaction\": np.random.randint(1, 5, size=n),\n",
    "        \"YearsAtCompany\": np.random.randint(0, 40, size=n),\n",
    "    })\n",
    "\n",
    "    # Introduce some missing values\n",
    "    for col in [\"MonthlyIncome\", \"JobSatisfaction\"]:\n",
    "        data.loc[data.sample(frac=0.05).index, col] = np.nan\n",
    "\n",
    "    # Generate Attrition (target) with some logic\n",
    "    def generate_attrition(row):\n",
    "        if row[\"JobSatisfaction\"] == 1 and row[\"YearsAtCompany\"] < 2:\n",
    "            return \"Yes\"\n",
    "        elif row[\"MonthlyIncome\"] < 4000 and row[\"DistanceFromHome\"] > 20:\n",
    "            return \"Yes\"\n",
    "        else:\n",
    "            return np.random.choice([\"Yes\", \"No\"], p=[0.1, 0.9])\n",
    "\n",
    "    data[\"Attrition\"] = data.apply(generate_attrition, axis=1)\n",
    "    return data\n",
    "\n",
    "if __name__ == \"__main__\":\n",
    "    df = generate_synthetic_hr_data()\n",
    "    df.to_csv(\"/Users/samirsitaula/Documents/Selfpaced_Practice/ML Basics/employee-attrition-predictor/data/raw/hr_data.csv\", index=False)\n"
   ]
  },
  {
   "cell_type": "code",
   "execution_count": null,
   "id": "bd5946bb-9c39-4dde-9808-fb6b00517174",
   "metadata": {},
   "outputs": [],
   "source": []
  }
 ],
 "metadata": {
  "kernelspec": {
   "display_name": "Python [conda env:base] *",
   "language": "python",
   "name": "conda-base-py"
  },
  "language_info": {
   "codemirror_mode": {
    "name": "ipython",
    "version": 3
   },
   "file_extension": ".py",
   "mimetype": "text/x-python",
   "name": "python",
   "nbconvert_exporter": "python",
   "pygments_lexer": "ipython3",
   "version": "3.12.7"
  }
 },
 "nbformat": 4,
 "nbformat_minor": 5
}
