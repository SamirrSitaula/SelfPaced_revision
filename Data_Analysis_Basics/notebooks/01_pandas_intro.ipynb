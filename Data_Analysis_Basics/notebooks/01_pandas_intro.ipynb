{
 "cells": [
  {
   "cell_type": "code",
   "execution_count": 13,
   "id": "3dee559a",
   "metadata": {},
   "outputs": [
    {
     "data": {
      "text/html": [
       "<div>\n",
       "<style scoped>\n",
       "    .dataframe tbody tr th:only-of-type {\n",
       "        vertical-align: middle;\n",
       "    }\n",
       "\n",
       "    .dataframe tbody tr th {\n",
       "        vertical-align: top;\n",
       "    }\n",
       "\n",
       "    .dataframe thead th {\n",
       "        text-align: right;\n",
       "    }\n",
       "</style>\n",
       "<table border=\"1\" class=\"dataframe\">\n",
       "  <thead>\n",
       "    <tr style=\"text-align: right;\">\n",
       "      <th></th>\n",
       "      <th>Name</th>\n",
       "      <th>Age</th>\n",
       "      <th>City</th>\n",
       "    </tr>\n",
       "  </thead>\n",
       "  <tbody>\n",
       "    <tr>\n",
       "      <th>0</th>\n",
       "      <td>Alice</td>\n",
       "      <td>25</td>\n",
       "      <td>NY</td>\n",
       "    </tr>\n",
       "    <tr>\n",
       "      <th>1</th>\n",
       "      <td>Bob</td>\n",
       "      <td>30</td>\n",
       "      <td>LA</td>\n",
       "    </tr>\n",
       "    <tr>\n",
       "      <th>2</th>\n",
       "      <td>Charlie</td>\n",
       "      <td>35</td>\n",
       "      <td>Chicago</td>\n",
       "    </tr>\n",
       "    <tr>\n",
       "      <th>3</th>\n",
       "      <td>David</td>\n",
       "      <td>40</td>\n",
       "      <td>Miami</td>\n",
       "    </tr>\n",
       "  </tbody>\n",
       "</table>\n",
       "</div>"
      ],
      "text/plain": [
       "      Name  Age     City\n",
       "0    Alice   25       NY\n",
       "1      Bob   30       LA\n",
       "2  Charlie   35  Chicago\n",
       "3    David   40    Miami"
      ]
     },
     "execution_count": 13,
     "metadata": {},
     "output_type": "execute_result"
    }
   ],
   "source": [
    "import pandas as pd\n",
    "import numpy as np\n",
    "\n",
    "# Create a simple DataFrame\n",
    "data = {\n",
    "    'Name': ['Alice', 'Bob', 'Charlie', 'David'],\n",
    "    'Age': [25, 30, 35, 40],\n",
    "    'City': ['NY', 'LA', 'Chicago', 'Miami']\n",
    "}\n",
    "\n",
    "df = pd.DataFrame(data) #assign data to df\n",
    "\n",
    "df = df.rename(columns={'Fame': 'Tame'}) #change column name of df\n",
    "\n",
    "# View DataFrame\n",
    "df\n"
   ]
  },
  {
   "cell_type": "code",
   "execution_count": null,
   "id": "a38b8c25",
   "metadata": {},
   "outputs": [],
   "source": []
  },
  {
   "cell_type": "code",
   "execution_count": null,
   "id": "05322bc9",
   "metadata": {},
   "outputs": [],
   "source": [
    "# Create a Simple Dataframe\n",
    "# data = {\n",
    "#     'Name': ['Alice', 'Bob', 'Charlie', 'David'],\n",
    "#     'Age' : [25, 30, 35, 40],\n",
    "#     'City' : ['Ny', 'LA', 'Chicago', 'Miami']\n",
    "\n",
    "#  }\n",
    "# print(df)"
   ]
  },
  {
   "cell_type": "code",
   "execution_count": null,
   "id": "bd105738",
   "metadata": {},
   "outputs": [],
   "source": [
    "# import numpy as np\n",
    "# import pandas as pd\n",
    "\n",
    "# students = {\n",
    "#     'name':['Samir', 'Tulsi', 'Jarshana', 'Manju', 'Neerja', 'Nitish', 'Nistha', 'Roshan'],\n",
    "#     'age' : [23, 24, 25, 26, 27, 28, 29, 30],\n",
    "#     'ID' : [1, 2, 3, 4, 5, 6, 7, 8],\n",
    "#     'city': ['CA', 'TX', 'BT', 'NM', 'PA', 'TX', 'CA', 'CA']\n",
    "# }\n",
    "\n",
    "# df = pd.DataFrame(students)\n",
    "# print(df)"
   ]
  },
  {
   "cell_type": "code",
   "execution_count": null,
   "id": "08bd4d26",
   "metadata": {},
   "outputs": [],
   "source": [
    "# import numpy as np\n",
    "# import pandas as pd\n",
    "\n",
    "# groceries = {\n",
    "#     'items' : ['Apple', 'tea bag', 'rice', 'flour', 'juice'],\n",
    "#     'quantity': [ 2, 1, 1, 1, 4],\n",
    "#     'price' : [2, 3, 4, 5, 6 ]\n",
    "\n",
    "# }\n",
    "# df = pd.DataFrame(groceries)\n",
    "# print(df)\n",
    "# df.head()\n",
    "# df.shape\n",
    "# df. columns\n",
    "# df.dtypes\n",
    "# df.info()\n",
    "# df.describe()"
   ]
  }
 ],
 "metadata": {
  "kernelspec": {
   "display_name": "base",
   "language": "python",
   "name": "python3"
  },
  "language_info": {
   "codemirror_mode": {
    "name": "ipython",
    "version": 3
   },
   "file_extension": ".py",
   "mimetype": "text/x-python",
   "name": "python",
   "nbconvert_exporter": "python",
   "pygments_lexer": "ipython3",
   "version": "3.12.7"
  }
 },
 "nbformat": 4,
 "nbformat_minor": 5
}
