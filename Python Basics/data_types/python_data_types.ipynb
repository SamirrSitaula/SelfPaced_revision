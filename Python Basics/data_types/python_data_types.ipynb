{
 "cells": [
  {
   "cell_type": "code",
   "execution_count": null,
   "id": "751f0b95-3551-4005-8b74-d578a632e3d8",
   "metadata": {},
   "outputs": [],
   "source": [
    "✍️ TASK 1.1: Define Your Info\n",
    "Write a Python script or notebook that does the following:\n",
    "\n",
    "Creates five variables representing you:\n",
    "Your name (str)\n",
    "Your age (int)\n",
    "Your height in cm (float)\n",
    "Whether you are currently learning Python (bool)\n",
    "A variable that stores None to represent a skill you haven’t learned yet.\n",
    "Then print each variable with a short sentence"
   ]
  },
  {
   "cell_type": "code",
   "execution_count": 11,
   "id": "67920ebe-cc42-4bfc-97a2-2ba2c61413db",
   "metadata": {},
   "outputs": [
    {
     "name": "stdout",
     "output_type": "stream",
     "text": [
      " My Name is Samir\n",
      " I am 29 years old\n",
      " I am 170.69 cm tall\n",
      " Its True that I am learning python\n",
      " I posses None skills right now\n"
     ]
    }
   ],
   "source": [
    "name = \"Samir\"\n",
    "age = 29\n",
    "height_in_cm = 170.69\n",
    "learning_python = True\n",
    "sentiment_analysis = None\n",
    "print(\" My Name is\", name)\n",
    "print(f\" I am {age} years old\")\n",
    "print(f\" I am {height_in_cm} cm tall\")\n",
    "print(f\" Its {learning_python} that I am learning python\")\n",
    "print(f\" I posses {sentiment_analysis} skills right now\")"
   ]
  },
  {
   "cell_type": "code",
   "execution_count": null,
   "id": "49fb662d-aa3f-430a-b861-dfd4c4542bf0",
   "metadata": {},
   "outputs": [],
   "source": []
  }
 ],
 "metadata": {
  "kernelspec": {
   "display_name": "Python [conda env:base] *",
   "language": "python",
   "name": "conda-base-py"
  },
  "language_info": {
   "codemirror_mode": {
    "name": "ipython",
    "version": 3
   },
   "file_extension": ".py",
   "mimetype": "text/x-python",
   "name": "python",
   "nbconvert_exporter": "python",
   "pygments_lexer": "ipython3",
   "version": "3.12.7"
  }
 },
 "nbformat": 4,
 "nbformat_minor": 5
}
