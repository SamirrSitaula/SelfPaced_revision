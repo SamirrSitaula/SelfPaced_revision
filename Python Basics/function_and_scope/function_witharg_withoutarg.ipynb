{
 "cells": [
  {
   "cell_type": "markdown",
   "id": "84592b81-7dae-4488-ae81-38ebbd01bfab",
   "metadata": {},
   "source": [
    "## Write a function called say_hello() that prints “Hello, Samir!”."
   ]
  },
  {
   "cell_type": "code",
   "execution_count": 6,
   "id": "f524f583-68f1-4e35-9270-426ba5a15310",
   "metadata": {},
   "outputs": [
    {
     "name": "stdout",
     "output_type": "stream",
     "text": [
      "Hello, Samir!\n"
     ]
    }
   ],
   "source": [
    "def say_hello():\n",
    "    print(\"Hello, Samir!\")\n",
    "\n",
    "say_hello()"
   ]
  },
  {
   "cell_type": "markdown",
   "id": "af0fda3b-6892-4726-8755-1b35da6b468e",
   "metadata": {},
   "source": [
    "## Write a function bmi(weight, height) that prints the BMI using the formula: weight / (height ** 2)."
   ]
  },
  {
   "cell_type": "code",
   "execution_count": 8,
   "id": "8fe4d3c6-0474-416a-99e7-0f187463d16b",
   "metadata": {},
   "outputs": [
    {
     "name": "stdout",
     "output_type": "stream",
     "text": [
      "0.004056481942164987\n"
     ]
    }
   ],
   "source": [
    "def bmi(weight, height):\n",
    "    bmi_index = weight / (height ** 2)\n",
    "    print(bmi_index)\n",
    "bmi(114, 167.64)"
   ]
  },
  {
   "cell_type": "markdown",
   "id": "652c385b-140c-417c-909d-686f3f7338b7",
   "metadata": {},
   "source": [
    "## Function that returns value"
   ]
  },
  {
   "cell_type": "code",
   "execution_count": 75,
   "id": "30ac194d-1f2d-4707-8813-9699dd788c91",
   "metadata": {},
   "outputs": [
    {
     "name": "stdout",
     "output_type": "stream",
     "text": [
      "0.004056481942164987\n"
     ]
    }
   ],
   "source": [
    "def bmi(weight, height):\n",
    "    return weight / (height ** 2)\n",
    "result = bmi(114, 167.64)\n",
    "print (result)"
   ]
  },
  {
   "cell_type": "markdown",
   "id": "e66a2898-69cc-429b-86fd-6c5127963e2f",
   "metadata": {},
   "source": [
    "## Write a function fahrenheit_to_celsius(f) that returns temperature in Celsius."
   ]
  },
  {
   "cell_type": "code",
   "execution_count": 77,
   "id": "65267974-c6d5-44b8-960a-91fe41c5f5c7",
   "metadata": {},
   "outputs": [
    {
     "name": "stdout",
     "output_type": "stream",
     "text": [
      " The Temperature is 0.5555555555555556 Celcius\n"
     ]
    }
   ],
   "source": [
    "def fahrenheit_to_celcius(f):\n",
    "    return ((f - 32) * 5) / 9 \n",
    "value = fahrenheit_to_celcius(33)\n",
    "print(f\" The Temperature is {value} Celcius\")"
   ]
  },
  {
   "cell_type": "markdown",
   "id": "6fa54ee0-a6fa-4c60-8ee7-2663ff69fc90",
   "metadata": {},
   "source": [
    "## Write a function fahrenheit_to_celsius(f) that returns temperature in Celsius with input function."
   ]
  },
  {
   "cell_type": "code",
   "execution_count": 28,
   "id": "0415b695-0f05-4735-9ef9-66058d229a05",
   "metadata": {},
   "outputs": [
    {
     "name": "stdin",
     "output_type": "stream",
     "text": [
      " enter temp in f 33\n"
     ]
    },
    {
     "name": "stdout",
     "output_type": "stream",
     "text": [
      "0.5555555555555556\n"
     ]
    }
   ],
   "source": [
    "def f_to_c(f):\n",
    "    return ((f-32) * 5 ) / 9\n",
    "    \n",
    "value = f_to_c(int(input(\" enter temp in f\")))\n",
    "print(value)\n",
    "   "
   ]
  },
  {
   "cell_type": "markdown",
   "id": "66c64b82-fc4c-4a96-884b-6da522cef506",
   "metadata": {},
   "source": [
    "## Local vs Global Variable"
   ]
  },
  {
   "cell_type": "code",
   "execution_count": 38,
   "id": "acac3999-acaa-4456-9756-3369c84b734a",
   "metadata": {},
   "outputs": [
    {
     "name": "stdout",
     "output_type": "stream",
     "text": [
      "10\n",
      "9\n"
     ]
    }
   ],
   "source": [
    "x = 9 #global variable\n",
    "\n",
    "def inside():\n",
    "    x = 10 #local variable\n",
    "    print(x)\n",
    "inside()\n",
    "\n",
    "print(x) "
   ]
  },
  {
   "cell_type": "markdown",
   "id": "1e17e378-4165-4395-8182-7ae68a1f05bf",
   "metadata": {},
   "source": [
    "## Write a function modify() that tries to change a global variable and see what happens."
   ]
  },
  {
   "cell_type": "code",
   "execution_count": 46,
   "id": "8c19e8a0-7210-43d5-b497-c64cda2fe473",
   "metadata": {},
   "outputs": [
    {
     "name": "stdout",
     "output_type": "stream",
     "text": [
      "1\n",
      "2\n"
     ]
    }
   ],
   "source": [
    "a = 10\n",
    "def modify():\n",
    "    b =  1\n",
    "    a = b + 1\n",
    "    print(b)\n",
    "    print(a)\n",
    "\n",
    "modify()\n",
    "    \n",
    "    "
   ]
  },
  {
   "cell_type": "markdown",
   "id": "1309e0d2-5e18-4d77-bafd-24dc50317db8",
   "metadata": {},
   "source": [
    "## Default values to parameters"
   ]
  },
  {
   "cell_type": "code",
   "execution_count": 50,
   "id": "c685c3a5-a3c8-4ae5-84a3-d29ed8bdd891",
   "metadata": {},
   "outputs": [
    {
     "name": "stdout",
     "output_type": "stream",
     "text": [
      "Hello, friend!\n",
      "Hello, Samir!\n"
     ]
    }
   ],
   "source": [
    "def greet(name=\"friend\"):\n",
    "    print(f\"Hello, {name}!\")\n",
    "    \n",
    "greet()\n",
    "greet(\"Samir\")\n"
   ]
  },
  {
   "cell_type": "markdown",
   "id": "4a01ab13-2ea2-4941-889c-5e7686d3dee8",
   "metadata": {},
   "source": [
    "## Create a function calculate(num1, num2, operation) that:\n",
    "\n",
    "Adds if operation is \"add\"\n",
    "Subtracts if \"sub\"\n",
    "Multiplies if \"mul\"\n",
    "Divides if \"div\"\n",
    "Returns \"Invalid operation\" for others"
   ]
  },
  {
   "cell_type": "code",
   "execution_count": 77,
   "id": "567db1c0-7ec3-4b75-863e-c973e3d49e21",
   "metadata": {},
   "outputs": [
    {
     "name": "stdout",
     "output_type": "stream",
     "text": [
      " Cannot Divide by zero\n"
     ]
    }
   ],
   "source": [
    "def calculate(num1, num2, operation):\n",
    "    if operation == \"add\":\n",
    "        return num1 + num2\n",
    "    elif operation == \"sub\":\n",
    "        return num1 - num2\n",
    "    elif operation == \"mul\":\n",
    "        return num1 * num2\n",
    "    elif operation == \"div\":\n",
    "        \n",
    "        if num2 == 0:\n",
    "            return \" Cannot Divide by zero\"\n",
    "        return num1 / num2\n",
    "    else:\n",
    "        return \"Invalid operations\"\n",
    "\n",
    "print(calculate(2, 0, \"div\"))\n"
   ]
  },
  {
   "cell_type": "code",
   "execution_count": null,
   "id": "d4e39a2f-855b-4308-8934-16ded9757543",
   "metadata": {},
   "outputs": [],
   "source": [
    "Simple Calculator with input function"
   ]
  },
  {
   "cell_type": "code",
   "execution_count": 115,
   "id": "ee7fec43-f352-4083-953d-a8458cf3c0f2",
   "metadata": {},
   "outputs": [
    {
     "name": "stdin",
     "output_type": "stream",
     "text": [
      "first number 1\n",
      "second number 1\n",
      " input add for addition, sub for substraction, multiple for mul and div for division add\n"
     ]
    },
    {
     "name": "stdout",
     "output_type": "stream",
     "text": [
      "2\n"
     ]
    }
   ],
   "source": [
    "def calculate(num1, num2, operation):\n",
    "    if operation == \"add\":\n",
    "        return num1 + num2\n",
    "    elif operation == \"sub\":\n",
    "        return num1 - num2\n",
    "    elif operation == \"mul\":\n",
    "        return num1 * num2\n",
    "    elif operation == \"div\":\n",
    "        \n",
    "        if num2 == 0:\n",
    "            return \" Cannot Divide by zero\"\n",
    "        return num1 / num2\n",
    "    else:\n",
    "        return \"Invalid operations\"\n",
    "\n",
    "num1 = int(input(\"first number\"))\n",
    "num2 = int(input(\"second number\"))\n",
    "operation = input(\" input add for addition, sub for substraction, multiple for mul and div for division\")\n",
    "result = calculate(num1, num2, operation)\n",
    "print(result)"
   ]
  },
  {
   "cell_type": "code",
   "execution_count": null,
   "id": "a36f7f6f-03dd-4f76-a841-2db7ebd0503e",
   "metadata": {},
   "outputs": [],
   "source": []
  },
  {
   "cell_type": "code",
   "execution_count": null,
   "id": "f0396d09-a89c-4ab9-9b59-e71239bf9242",
   "metadata": {},
   "outputs": [],
   "source": []
  },
  {
   "cell_type": "code",
   "execution_count": null,
   "id": "4f91347a-34ea-469d-a7cc-3d8e09322dca",
   "metadata": {},
   "outputs": [],
   "source": []
  }
 ],
 "metadata": {
  "kernelspec": {
   "display_name": "Python [conda env:base] *",
   "language": "python",
   "name": "conda-base-py"
  },
  "language_info": {
   "codemirror_mode": {
    "name": "ipython",
    "version": 3
   },
   "file_extension": ".py",
   "mimetype": "text/x-python",
   "name": "python",
   "nbconvert_exporter": "python",
   "pygments_lexer": "ipython3",
   "version": "3.12.7"
  }
 },
 "nbformat": 4,
 "nbformat_minor": 5
}
