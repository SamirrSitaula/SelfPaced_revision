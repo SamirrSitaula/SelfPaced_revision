{
 "cells": [
  {
   "cell_type": "code",
   "execution_count": null,
   "id": "c8685c07-9952-4937-baa5-1a119cb9401f",
   "metadata": {},
   "outputs": [],
   "source": [
    "Your Task 1: Age Checker\n",
    "Write code that:\n",
    "\n",
    "Takes the user's age with input()\n",
    "If age is below 18 → print \"You're a minor.\"\n",
    "If age is between 18 and 60 → print \"You're an adult.\"\n",
    "If age is greater than 60 → print \"You're a senior citizen.\"\n",
    "💡 Use int(input(\"Enter your age: \")) to get the age as an integer."
   ]
  },
  {
   "cell_type": "code",
   "execution_count": 13,
   "id": "70b2a230-f0c8-4a57-8e3a-a51a0151c135",
   "metadata": {},
   "outputs": [
    {
     "name": "stdin",
     "output_type": "stream",
     "text": [
      "How old are you ? 29\n"
     ]
    },
    {
     "name": "stdout",
     "output_type": "stream",
     "text": [
      " You're an adult\n"
     ]
    }
   ],
   "source": [
    "age = int(input(\"How old are you ?\"))\n",
    "if age < 18:\n",
    "    print(\" You're a minor\")\n",
    "elif age >= 18 and age <= 60:\n",
    "     print(\" You're an adult\")\n",
    "else:\n",
    "    print(\" You're a senior citizen.\")"
   ]
  },
  {
   "cell_type": "code",
   "execution_count": null,
   "id": "8055acc8-ab91-41fa-b6ba-4d5ff483705c",
   "metadata": {},
   "outputs": [],
   "source": []
  }
 ],
 "metadata": {
  "kernelspec": {
   "display_name": "Python [conda env:base] *",
   "language": "python",
   "name": "conda-base-py"
  },
  "language_info": {
   "codemirror_mode": {
    "name": "ipython",
    "version": 3
   },
   "file_extension": ".py",
   "mimetype": "text/x-python",
   "name": "python",
   "nbconvert_exporter": "python",
   "pygments_lexer": "ipython3",
   "version": "3.12.7"
  }
 },
 "nbformat": 4,
 "nbformat_minor": 5
}
