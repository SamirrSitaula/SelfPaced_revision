{
 "cells": [
  {
   "cell_type": "code",
   "execution_count": null,
   "id": "a0b4d7ad-e8e9-45ae-835a-945d8eff6455",
   "metadata": {},
   "outputs": [],
   "source": [
    " TASK 1.2: Mini Calculator\n",
    "Create two variables, x and y, and assign any numbers.\n",
    "Print the result of all arithmetic operators.\n",
    "Print whether x is greater than y.\n",
    "Create two boolean variables and show and, or, and not operations."
   ]
  },
  {
   "cell_type": "code",
   "execution_count": 12,
   "id": "45850b4d-72ee-42c8-9c05-0cfb97bd1458",
   "metadata": {},
   "outputs": [
    {
     "name": "stdout",
     "output_type": "stream",
     "text": [
      "9 5 14 3.5 49 3\n",
      "True\n",
      "False\n",
      "True\n",
      "False\n",
      "True\n"
     ]
    }
   ],
   "source": [
    "#print all arithmetic operators\n",
    "num_1 = 7\n",
    "num_2 = 2\n",
    "print (num_1+num_2, num_1-num_2, num_1*num_2, num_1/num_2, num_1**num_2, num_1//num_2)\n",
    "\n",
    "#check if num_1 is greater than num_2\n",
    "print(num_1>num_2)\n",
    "#boolean variable \n",
    "x = True\n",
    "y = False\n",
    "\n",
    "print(x and y)\n",
    "print(x or y)\n",
    "print( not x)\n",
    "print(not y)\n",
    "\n"
   ]
  },
  {
   "cell_type": "code",
   "execution_count": 20,
   "id": "1ba84982-9f96-4dc2-bbfe-b3140d5bb38e",
   "metadata": {},
   "outputs": [
    {
     "name": "stdin",
     "output_type": "stream",
     "text": [
      "Enter first number 1\n",
      "Enter second number 2\n"
     ]
    },
    {
     "name": "stdout",
     "output_type": "stream",
     "text": [
      "3 -1 2 0.5 1 0 1\n"
     ]
    }
   ],
   "source": [
    "#input based mini calculator\n",
    "n1 = int(input(\"Enter first number\"))\n",
    "n2 = int(input(\"Enter second number\"))\n",
    "print (n1+n2, n1-n2, n1*n2, n1/n2, n1**n2, n1//n2, n1%n2)"
   ]
  },
  {
   "cell_type": "code",
   "execution_count": null,
   "id": "ed1a0884-c542-4fad-8a6f-66bbdef36996",
   "metadata": {},
   "outputs": [],
   "source": []
  }
 ],
 "metadata": {
  "kernelspec": {
   "display_name": "Python [conda env:base] *",
   "language": "python",
   "name": "conda-base-py"
  },
  "language_info": {
   "codemirror_mode": {
    "name": "ipython",
    "version": 3
   },
   "file_extension": ".py",
   "mimetype": "text/x-python",
   "name": "python",
   "nbconvert_exporter": "python",
   "pygments_lexer": "ipython3",
   "version": "3.12.7"
  }
 },
 "nbformat": 4,
 "nbformat_minor": 5
}
